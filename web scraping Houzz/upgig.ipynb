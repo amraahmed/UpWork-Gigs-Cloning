{
 "cells": [
  {
   "cell_type": "code",
   "execution_count": 1,
   "metadata": {},
   "outputs": [],
   "source": [
    "import requests\n",
    "from bs4 import BeautifulSoup"
   ]
  },
  {
   "cell_type": "code",
   "execution_count": 2,
   "metadata": {},
   "outputs": [],
   "source": [
    "base_url = 'https://www.houzz.com/professionals/kitchen-and-bath-remodelers/miami-fl-us-probr0-bo~t_11825~r_4164138'\n",
    "page_number = 0\n",
    "lst = []\n",
    "\n",
    "# Scrap to only first 3 pages in order to save time page count can be change to whatever any number of pages\n",
    "\n",
    "while True and page_number <= 3:\n",
    "    # Construct the URL for the current page\n",
    "    if page_number == 0:\n",
    "        url = base_url\n",
    "    else:\n",
    "        url = base_url + f'?fi={page_number*15}'\n",
    "        \n",
    "    # Send a GET request to the URL\n",
    "    res = requests.get(url)\n",
    "    \n",
    "    # Break the loop if there are no more pages\n",
    "    if 'No results found.' in res.text:\n",
    "        break\n",
    "    \n",
    "    # Parse the HTML content of the response\n",
    "    soup = BeautifulSoup(res.content, 'html.parser')\n",
    "    \n",
    "    # Find all the elements with class 'hz-pro-ctl' that are placed in a tag\n",
    "    links = soup.find_all(lambda tag: tag.name == 'a' and 'hz-pro-ctl' in tag.get('class', []))\n",
    "    \n",
    "    # Extract the 'href' attribute of each link\n",
    "    for link in links:\n",
    "        href = link.get('href')\n",
    "        lst.append(href)\n",
    "        \n",
    "    # Increment the page number for the next iteration\n",
    "    page_number += 1"
   ]
  },
  {
   "cell_type": "code",
   "execution_count": 3,
   "metadata": {},
   "outputs": [
    {
     "data": {
      "text/plain": [
       "['https://www.houzz.com/professionals/general-contractors/full-service-usa-pfvwus-pf~1830092161',\n",
       " 'https://www.houzz.com/professionals/kitchen-and-bath-remodelers/orange-home-design-remodel-build-pfvwus-pf~188204162',\n",
       " 'https://www.houzz.com/professionals/general-contractors/chapter-pfvwus-pf~666806768',\n",
       " 'https://www.houzz.com/professionals/kitchen-and-bath-remodelers/construction-by-design-eg-pfvwus-pf~1136444938']"
      ]
     },
     "execution_count": 3,
     "metadata": {},
     "output_type": "execute_result"
    }
   ],
   "source": [
    "lsthead = lst[:4]\n",
    "lsthead"
   ]
  },
  {
   "cell_type": "code",
   "execution_count": 4,
   "metadata": {},
   "outputs": [],
   "source": [
    "import re\n",
    "names = []\n",
    "phones = []\n",
    "websites = []\n",
    "adresses = []\n",
    "for i in lsthead:\n",
    "    res = requests.get(i)\n",
    "    soup = BeautifulSoup(res.content, 'html.parser')    \n",
    "    tag = soup.find_all(\"div\", {\"class\": \"sc-183mtny-0 sc-1uw6j8i-0 BusinessDetails__StyledCell-sc-1iscszt-0 dYJOPh ecpWHO gRCcss hui-cell\"})\n",
    "    for i, char in enumerate(tag):\n",
    "        if i % 4 == 0:\n",
    "            names.append(re.sub(r'^.*Business Name', '',char.text).strip())\n",
    "        elif i % 4 == 1:\n",
    "            phones.append(re.sub(r'^.*Phone Number', '', char.text).strip())\n",
    "            \n",
    "        elif i % 4 == 2:\n",
    "            websites.append(re.sub(r'^.*Website', '', char.text).strip())\n",
    "            \n",
    "        else:\n",
    "            adresses.append(re.sub(r'^.*Address', '', char.text).strip())\n",
    "\n",
    "        if len(names) == len(phones) == len(websites) == len(adresses):\n",
    "            break"
   ]
  },
  {
   "cell_type": "code",
   "execution_count": 5,
   "metadata": {},
   "outputs": [
    {
     "name": "stdout",
     "output_type": "stream",
     "text": [
      "['818 Northeast 8th StreetHallandale, Florida 33009United States', '1198 Venetian Way, 213Miami Beach, Florida 33139United States', '345 7th Ave 9th floorNew York, New York 10001United States']\n",
      "['(305) 487-8485', '(305) 903-5158', '(212) 680-4628']\n",
      "['www.fullserviceusa.com', 'orangehomedesign.com', 'hellochapter.com/']\n",
      "['Full Service USA', 'Orange Home • Design | Remodel | Build', 'Chapter']\n"
     ]
    }
   ],
   "source": [
    "print(adresses[:3])\n",
    "print(phones[:3])\n",
    "print(websites[:3])\n",
    "print(names[:3])"
   ]
  },
  {
   "cell_type": "code",
   "execution_count": 6,
   "metadata": {},
   "outputs": [],
   "source": [
    "social_links = []\n",
    "social_name = []\n",
    "\n",
    "for i in lsthead:\n",
    "    soc = []\n",
    "    soclnks = []\n",
    "    res = requests.get(i)\n",
    "    soup = BeautifulSoup(res.text, \"html.parser\")\n",
    "    a_tags = soup.find_all(\"a\", {\"class\": \"sc-62xgu6-0 jtYTMy sc-mwxddt-0 dOJEup hui-link\"})\n",
    "    soclnks.extend([a_tag.get(\"href\") for a_tag in a_tags if a_tag.get(\"href\")])\n",
    "    soc.extend([a_tag.get(\"aria-label\").split()[-1] for a_tag in a_tags if a_tag.get(\"href\")])\n",
    "    \n",
    "    social_name.append(soc)\n",
    "    social_links.append(soclnks)\n",
    "    "
   ]
  },
  {
   "cell_type": "code",
   "execution_count": 7,
   "metadata": {},
   "outputs": [
    {
     "name": "stdout",
     "output_type": "stream",
     "text": [
      "Houzz Url: https://www.houzz.com/professionals/general-contractors/full-service-usa-pfvwus-pf~1830092161 \n",
      " Name: Full Service USA \n",
      " Phone: (305) 487-8485 \n",
      " website url: www.fullserviceusa.com \n",
      " Adress:818 Northeast 8th StreetHallandale, Florida 33009United States\n",
      "site: https://www.houzz.com/trk/d3d3LmZ1bGxzZXJ2aWNldXNhLmNvbQ/ab5d3a8e97b7ce05169f22f794bef98c/ue/MjI1OTQ1Mzc/30f4d162afc94c9405b53cba2d53f2c3\n",
      "---------------------------------------------------\n",
      "Houzz Url: https://www.houzz.com/professionals/general-contractors/full-service-usa-pfvwus-pf~1830092161 \n",
      " Name: Orange Home • Design | Remodel | Build \n",
      " Phone: (305) 903-5158 \n",
      " website url: orangehomedesign.com \n",
      " Adress:1198 Venetian Way, 213Miami Beach, Florida 33139United States\n",
      "Facebook: https://www.houzz.com/trk/aHR0cHM6Ly93d3cuZmFjZWJvb2suY29tL29yYW5nZWhvbWVkZXNpZ24v/5d1d65e98ecb253497482bca949b89a5/ue/NTczNjU0NjY/a6e5762785772e368f4bf16ed6319722\n",
      "Twitter: https://www.houzz.com/trk/aHR0cHM6Ly93d3cudHdpdHRlci5jb20vb3JhbmdlaG9tZWRzaWduLw/9b0f286249e13ff38eea088620d3a05f/ue/NTczNjU0NjY/a6e5762785772e368f4bf16ed6319722\n",
      "site: https://www.houzz.com/trk/d3d3Lm9yYW5nZWhvbWVkZXNpZ24uY29t/995dad5554d39cfe298a40cbd27ea6a9/ue/NTczNjU0NjY/a6e5762785772e368f4bf16ed6319722\n",
      "---------------------------------------------------\n",
      "Houzz Url: https://www.houzz.com/professionals/general-contractors/full-service-usa-pfvwus-pf~1830092161 \n",
      " Name: Chapter \n",
      " Phone: (212) 680-4628 \n",
      " website url: hellochapter.com/ \n",
      " Adress:345 7th Ave 9th floorNew York, New York 10001United States\n",
      "Facebook: https://www.houzz.com/trk/aHR0cHM6Ly93d3cuZmFjZWJvb2suY29tL2hlbGxvY2hhcHRlcg/242c61bf377e61296822562e8ece8a02/ue/NjY5NDYyNTI/733a505b4386145f10ab86a096c65b9e\n",
      "Linkedin: https://www.houzz.com/trk/aHR0cHM6Ly93d3cubGlua2VkaW4uY29tL2NvbXBhbnkvaGVsbG9jaGFwdGVyLw/14551daae8daacde9e88f61b19d13376/ue/NjY5NDYyNTI/733a505b4386145f10ab86a096c65b9e\n",
      "site: https://www.houzz.com/trk/aHR0cHM6Ly9oZWxsb2NoYXB0ZXIuY29tL2Jsb2cv/442edaf7e9024cc5f363e81034a42c46/ue/NjY5NDYyNTI/733a505b4386145f10ab86a096c65b9e\n",
      "---------------------------------------------------\n",
      "Houzz Url: https://www.houzz.com/professionals/general-contractors/full-service-usa-pfvwus-pf~1830092161 \n",
      " Name: Construction by Design EG \n",
      " Phone: (786) 706-0426 \n",
      " website url: designeg-cgc.com \n",
      " Adress:Miami, Florida 33193United States\n",
      "---------------------------------------------------\n"
     ]
    }
   ],
   "source": [
    "for i in range(len(lsthead)):\n",
    "    print(f\"Houzz Url: {lsthead[0]} \\n Name: {names[i]} \\n Phone: {phones[i]} \\n website url: {websites[i]} \\n Adress:{adresses[i]}\")\n",
    "    for j in range (len(social_links[i])):\n",
    "        print(f\"{social_name[i][j]}: {social_links[i][j]}\")\n",
    "    print(\"---------------------------------------------------\")"
   ]
  },
  {
   "cell_type": "code",
   "execution_count": 8,
   "metadata": {},
   "outputs": [],
   "source": [
    "import csv\n",
    "\n",
    "soc_col = []\n",
    "\n",
    "with open('data.csv', mode='w', newline='') as file:\n",
    "    writer = csv.writer(file)\n",
    "    writer.writerow(['Houzz Url','Name','Phone','Website','Adress'])\n",
    "    for row in zip(lsthead, names, phones,websites,adresses):\n",
    "        writer.writerow(row)         "
   ]
  },
  {
   "cell_type": "code",
   "execution_count": null,
   "metadata": {},
   "outputs": [],
   "source": []
  }
 ],
 "metadata": {
  "kernelspec": {
   "display_name": "Python 3",
   "language": "python",
   "name": "python3"
  },
  "language_info": {
   "codemirror_mode": {
    "name": "ipython",
    "version": 3
   },
   "file_extension": ".py",
   "mimetype": "text/x-python",
   "name": "python",
   "nbconvert_exporter": "python",
   "pygments_lexer": "ipython3",
   "version": "3.10.8"
  },
  "orig_nbformat": 4
 },
 "nbformat": 4,
 "nbformat_minor": 2
}
